{
 "cells": [
  {
   "cell_type": "code",
   "execution_count": 1,
   "metadata": {},
   "outputs": [],
   "source": [
    ":l Automata\n",
    "import Automata"
   ]
  },
  {
   "cell_type": "code",
   "execution_count": 3,
   "metadata": {},
   "outputs": [],
   "source": [
    "delta :: Char -> Status -> [Status]\n",
    "delta 'a' (Q 0) = [Q 1]\n",
    "delta 'a' (Q 1) = [Q 1]\n",
    "delta 'b' (Q 1) = [Q 1]\n",
    "delta 'a' (Q 2) = [Q 2]\n",
    "delta 'b' (Q 2) = [Q 2, Q 3]\n",
    "delta _ _ = []\n",
    "\n",
    "\n",
    "epsilon :: Status -> [Status]\n",
    "epsilon (Q 100) = [Q 0, Q 2]\n",
    "epsilon _ = []\n",
    "\n",
    "a = AFNe \"ab\" [Q 100, Q 0, Q 1, Q 2, Q 3] (Q 100) delta [Q 1, Q 3] epsilon\n",
    "b = normalizeNodes (afnToafd (afneToafn a))\n",
    "(AFD vocab' nodes' initial' delta' terminals') = b"
   ]
  },
  {
   "cell_type": "code",
   "execution_count": 6,
   "metadata": {
    "scrolled": true
   },
   "outputs": [],
   "source": [
    "txt = show nodes'\n",
    "nodes'' = read txt::[Status]"
   ]
  },
  {
   "cell_type": "code",
   "execution_count": 7,
   "metadata": {},
   "outputs": [
    {
     "data": {
      "text/plain": [
       "[Q 0,Q 1,Q 2,Q 3,Q 4,Q 5,Q 6,Q 7,Q 8,Q 9,Q 10,Q 11,Q 12,Q 13,Q 14,Q 15,Q 16,Q 17,Q 18,Q 19,Q 20,Q 21,Q 22,Q 23,Q 24,Q 25,Q 26,Q 27,Q 28,Q 29,Q 30]"
      ]
     },
     "metadata": {},
     "output_type": "display_data"
    }
   ],
   "source": [
    "nodes''"
   ]
  }
 ],
 "metadata": {
  "kernelspec": {
   "display_name": "Haskell",
   "language": "haskell",
   "name": "haskell"
  },
  "language_info": {
   "codemirror_mode": "ihaskell",
   "file_extension": ".hs",
   "mimetype": "text/x-haskell",
   "name": "haskell",
   "pygments_lexer": "Haskell",
   "version": "8.8.4"
  }
 },
 "nbformat": 4,
 "nbformat_minor": 4
}
