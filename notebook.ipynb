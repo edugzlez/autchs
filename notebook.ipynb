{
 "cells": [
  {
   "cell_type": "code",
   "execution_count": 57,
   "metadata": {},
   "outputs": [],
   "source": [
    ":l Automata\n",
    "import Automata"
   ]
  },
  {
   "cell_type": "markdown",
   "metadata": {},
   "source": [
    "# Autómata finito determinista"
   ]
  },
  {
   "cell_type": "markdown",
   "metadata": {},
   "source": [
    "### Definición\n",
    "Definición de un autómata que reconoce el lenguaje a(a+b)* \n",
    " $$L_{EmpiezaA} := \\{aw: w\\in\\Sigma^*\\} = b(a+b)*$$ "
   ]
  },
  {
   "cell_type": "code",
   "execution_count": 58,
   "metadata": {},
   "outputs": [],
   "source": [
    "vocab = \"ab\"\n",
    "nodes = [Q 0, Q 1, Trash]\n",
    "initial = Q 0\n",
    "terminals = [Q 1]\n",
    "\n",
    "\n",
    "delta :: Char -> Status -> Status\n",
    "delta 'a' (Q 0) = Q 1\n",
    "delta _ (Q 1) = Q 1\n",
    "delta _ _ = Trash\n",
    "\n",
    "atEmpiezaA = AFD vocab nodes initial delta terminals"
   ]
  },
  {
   "cell_type": "markdown",
   "metadata": {},
   "source": [
    "Definición de un autómata que reconoce el lenguaje $$L_{EmpiezaB} := \\{bw: w\\in\\Sigma^*\\} = b(a+b)*$$ "
   ]
  },
  {
   "cell_type": "code",
   "execution_count": 59,
   "metadata": {},
   "outputs": [],
   "source": [
    "deltab :: Char -> Status -> Status\n",
    "deltab 'b' (Q 0) = Q 1\n",
    "deltab _ (Q 1) = Q 1\n",
    "deltab _ _ = Trash\n",
    "\n",
    "atEmpiezaB = AFD vocab nodes initial deltab terminals"
   ]
  },
  {
   "cell_type": "markdown",
   "metadata": {},
   "source": [
    "Definición de un autómata que reconoce el lenguaje $$L_{atApar} := \\{w: |w|_{a}\\ mod\\ 2\\ =\\ 0\\}$$"
   ]
  },
  {
   "cell_type": "code",
   "execution_count": 81,
   "metadata": {},
   "outputs": [],
   "source": [
    "deltad :: Char -> Status -> Status\n",
    "deltad 'a' (Q 0) = Q 1\n",
    "deltad 'b' (Q 0) = Q 0\n",
    "\n",
    "deltad 'a' (Q 1) = Q 0\n",
    "deltad 'b' (Q 1) = Q 1\n",
    "\n",
    "deltad _ _ = Trash\n",
    "\n",
    "terminalsd = [Q 0]\n",
    "\n",
    "atApar = AFD vocab nodes initial deltad terminalsd"
   ]
  },
  {
   "cell_type": "markdown",
   "metadata": {},
   "source": [
    "Definición de un autómata que reconoce el lenguaje $$L_{ab} := \\{(ab)^n : n \\geq 0\\} = (ab)*$$"
   ]
  },
  {
   "cell_type": "code",
   "execution_count": 169,
   "metadata": {},
   "outputs": [],
   "source": [
    "deltac :: Char -> Status -> Status\n",
    "deltac 'a' (Q 10) = Q 11\n",
    "deltac 'b' (Q 11) = Q 10\n",
    "deltac _ _ = Trash\n",
    "\n",
    "initialc = Q 10\n",
    "nodesc = [Q 10, Q 11, Trash]\n",
    "terminalsc = [Q 10]\n",
    "\n",
    "atab = AFD vocab nodesc initialc deltac terminalsc"
   ]
  },
  {
   "cell_type": "markdown",
   "metadata": {},
   "source": [
    "### Funciones sobre un autómata\n",
    "##### ¿Reconoce una palabra? (isRenewed :: Automata -> [Char] -> Bool)"
   ]
  },
  {
   "cell_type": "code",
   "execution_count": 61,
   "metadata": {},
   "outputs": [
    {
     "data": {
      "text/plain": [
       "True"
      ]
     },
     "metadata": {},
     "output_type": "display_data"
    }
   ],
   "source": [
    "isRenewed atEmpiezaA \"aabb\""
   ]
  },
  {
   "cell_type": "code",
   "execution_count": 62,
   "metadata": {},
   "outputs": [
    {
     "data": {
      "text/plain": [
       "False"
      ]
     },
     "metadata": {},
     "output_type": "display_data"
    }
   ],
   "source": [
    "isRenewed atEmpiezaA \"bab\""
   ]
  },
  {
   "cell_type": "code",
   "execution_count": 63,
   "metadata": {},
   "outputs": [
    {
     "data": {
      "text/plain": [
       "False"
      ]
     },
     "metadata": {},
     "output_type": "display_data"
    }
   ],
   "source": [
    "isRenewed atEmpiezaB \"aabb\""
   ]
  },
  {
   "cell_type": "code",
   "execution_count": 64,
   "metadata": {},
   "outputs": [
    {
     "data": {
      "text/plain": [
       "True"
      ]
     },
     "metadata": {},
     "output_type": "display_data"
    }
   ],
   "source": [
    "isRenewed atEmpiezaB \"bab\""
   ]
  },
  {
   "cell_type": "code",
   "execution_count": 163,
   "metadata": {},
   "outputs": [
    {
     "data": {
      "text/plain": [
       "False"
      ]
     },
     "metadata": {},
     "output_type": "display_data"
    }
   ],
   "source": [
    "isRenewed atab \"aabb\""
   ]
  },
  {
   "cell_type": "code",
   "execution_count": 164,
   "metadata": {},
   "outputs": [
    {
     "data": {
      "text/plain": [
       "False"
      ]
     },
     "metadata": {},
     "output_type": "display_data"
    }
   ],
   "source": [
    "isRenewed atab \"bab\""
   ]
  },
  {
   "cell_type": "code",
   "execution_count": 170,
   "metadata": {},
   "outputs": [
    {
     "data": {
      "text/plain": [
       "True"
      ]
     },
     "metadata": {},
     "output_type": "display_data"
    }
   ],
   "source": [
    "isRenewed atab \"abab\""
   ]
  },
  {
   "cell_type": "code",
   "execution_count": 82,
   "metadata": {},
   "outputs": [
    {
     "data": {
      "text/plain": [
       "False"
      ]
     },
     "metadata": {},
     "output_type": "display_data"
    }
   ],
   "source": [
    "isRenewed atApar \"abaabb\""
   ]
  },
  {
   "cell_type": "code",
   "execution_count": 83,
   "metadata": {},
   "outputs": [
    {
     "data": {
      "text/plain": [
       "True"
      ]
     },
     "metadata": {},
     "output_type": "display_data"
    }
   ],
   "source": [
    "isRenewed atApar \"abaabba\""
   ]
  },
  {
   "cell_type": "markdown",
   "metadata": {},
   "source": [
    "##### Función delta\n",
    "Dado un autómata, una palabra y una lista de estados devuelve la lista de estados a los que llega"
   ]
  },
  {
   "cell_type": "code",
   "execution_count": 68,
   "metadata": {},
   "outputs": [
    {
     "data": {
      "text/plain": [
       "[Q 1]"
      ]
     },
     "metadata": {},
     "output_type": "display_data"
    }
   ],
   "source": [
    "deltaB atEmpiezaA \"aa\" [Q 0]"
   ]
  },
  {
   "cell_type": "code",
   "execution_count": 174,
   "metadata": {},
   "outputs": [
    {
     "data": {
      "text/plain": [
       "[Trash,Q 10]"
      ]
     },
     "metadata": {},
     "output_type": "display_data"
    }
   ],
   "source": [
    "deltaB atab \"bab\" [Q 10, Q 11]"
   ]
  },
  {
   "cell_type": "markdown",
   "metadata": {},
   "source": [
    "##### Función normalizeNodes (normalizeNodes :: AFD -> AFD)\n",
    "Dado un AFD retorna el AFD con los estados renombrados a $q_0, q_1, ..., q_n$"
   ]
  },
  {
   "cell_type": "code",
   "execution_count": 171,
   "metadata": {},
   "outputs": [
    {
     "data": {
      "text/plain": [
       "ab\n",
       "[Q 0,Q 1,Q 2]\n",
       "Q 0\n",
       "[(Q 0,'a',Q 1),(Q 0,'b',Q 2),(Q 1,'a',Q 2),(Q 1,'b',Q 0),(Q 2,'a',Q 2),(Q 2,'b',Q 2)]\n",
       "[Q 0]"
      ]
     },
     "metadata": {},
     "output_type": "display_data"
    }
   ],
   "source": [
    "atab' = normalizeNodes atab\n",
    "atab'"
   ]
  },
  {
   "cell_type": "code",
   "execution_count": 175,
   "metadata": {},
   "outputs": [
    {
     "data": {
      "text/plain": [
       "False"
      ]
     },
     "metadata": {},
     "output_type": "display_data"
    },
    {
     "data": {
      "text/plain": [
       "False"
      ]
     },
     "metadata": {},
     "output_type": "display_data"
    },
    {
     "data": {
      "text/plain": [
       "True"
      ]
     },
     "metadata": {},
     "output_type": "display_data"
    }
   ],
   "source": [
    "isRenewed atab' \"aabb\"\n",
    "isRenewed atab' \"bab\"\n",
    "isRenewed atab' \"abab\""
   ]
  },
  {
   "cell_type": "markdown",
   "metadata": {},
   "source": [
    "##### Función reduce (reduce :: AFD -> AFD)\n",
    "Elimina nodos no alcanzables. El ejemplo se verá después."
   ]
  },
  {
   "cell_type": "markdown",
   "metadata": {},
   "source": [
    "### Operaciones sobre AFD\n",
    "##### Suma de autómatas (orAFD :: AFD -> AFD -> AFD)"
   ]
  },
  {
   "cell_type": "code",
   "execution_count": 188,
   "metadata": {},
   "outputs": [
    {
     "data": {
      "text/plain": [
       "True"
      ]
     },
     "metadata": {},
     "output_type": "display_data"
    },
    {
     "data": {
      "text/plain": [
       "True"
      ]
     },
     "metadata": {},
     "output_type": "display_data"
    },
    {
     "data": {
      "text/plain": [
       "[QP (Q 1) Trash]"
      ]
     },
     "metadata": {},
     "output_type": "display_data"
    }
   ],
   "source": [
    "atEmpiezaAoB = orAFD atEmpiezaA atEmpiezaB\n",
    "\n",
    "isRenewed atEmpiezaAoB \"abaabbbb\"\n",
    "isRenewed atEmpiezaAoB \"babaaa\"\n",
    "\n",
    "deltaB atEmpiezaAoB \"abaabbbb\" [QP (Q 0) (Q 0)]"
   ]
  },
  {
   "cell_type": "code",
   "execution_count": 84,
   "metadata": {},
   "outputs": [
    {
     "data": {
      "text/plain": [
       "True"
      ]
     },
     "metadata": {},
     "output_type": "display_data"
    },
    {
     "data": {
      "text/plain": [
       "False"
      ]
     },
     "metadata": {},
     "output_type": "display_data"
    },
    {
     "data": {
      "text/plain": [
       "True"
      ]
     },
     "metadata": {},
     "output_type": "display_data"
    }
   ],
   "source": [
    "atEmpiezaBoesAB = orAFD atEmpiezaB atab\n",
    "\n",
    "isRenewed atEmpiezaBoesAB \"ababababab\"\n",
    "isRenewed atEmpiezaBoesAB \"abba\"\n",
    "isRenewed atEmpiezaBoesAB \"babbb\""
   ]
  },
  {
   "cell_type": "code",
   "execution_count": 178,
   "metadata": {},
   "outputs": [
    {
     "data": {
      "text/plain": [
       "ab\n",
       "[Trash,QP (Q 0) (Q 0),QP (Q 0) (Q 1),QP (Q 0) Trash,QP (Q 1) (Q 0),QP (Q 1) (Q 1),QP (Q 1) Trash,QP Trash (Q 0),QP Trash (Q 1),QP Trash Trash]\n",
       "QP (Q 0) (Q 0)\n",
       "[(Trash,'a',Trash),(Trash,'b',Trash),(QP (Q 0) (Q 0),'a',QP Trash (Q 1)),(QP (Q 0) (Q 0),'b',QP (Q 1) Trash),(QP (Q 0) (Q 1),'a',QP Trash Trash),(QP (Q 0) (Q 1),'b',QP (Q 1) (Q 0)),(QP (Q 0) Trash,'a',QP Trash Trash),(QP (Q 0) Trash,'b',QP (Q 1) Trash),(QP (Q 1) (Q 0),'a',QP (Q 1) (Q 1)),(QP (Q 1) (Q 0),'b',QP (Q 1) Trash),(QP (Q 1) (Q 1),'a',QP (Q 1) Trash),(QP (Q 1) (Q 1),'b',QP (Q 1) (Q 0)),(QP (Q 1) Trash,'a',QP (Q 1) Trash),(QP (Q 1) Trash,'b',QP (Q 1) Trash),(QP Trash (Q 0),'a',QP Trash (Q 1)),(QP Trash (Q 0),'b',QP Trash Trash),(QP Trash (Q 1),'a',QP Trash Trash),(QP Trash (Q 1),'b',QP Trash (Q 0)),(QP Trash Trash,'a',QP Trash Trash),(QP Trash Trash,'b',QP Trash Trash)]\n",
       "[QP (Q 0) (Q 0),QP (Q 1) (Q 0),QP (Q 1) (Q 1),QP (Q 1) Trash,QP Trash (Q 0)]"
      ]
     },
     "metadata": {},
     "output_type": "display_data"
    }
   ],
   "source": [
    "atEmpiezaBoesAB"
   ]
  },
  {
   "cell_type": "code",
   "execution_count": 187,
   "metadata": {},
   "outputs": [
    {
     "data": {
      "text/plain": [
       "ab\n",
       "[Q 0,Q 1,Q 2,Q 3,Q 4,Q 5]\n",
       "Q 5\n",
       "[(Q 0,'a',Q 0),(Q 0,'b',Q 0),(Q 1,'a',Q 4),(Q 1,'b',Q 2),(Q 2,'a',Q 2),(Q 2,'b',Q 2),(Q 3,'a',Q 3),(Q 3,'b',Q 3),(Q 4,'a',Q 2),(Q 4,'b',Q 1),(Q 5,'a',Q 4),(Q 5,'b',Q 3)]\n",
       "[Q 1,Q 3,Q 5]"
      ]
     },
     "metadata": {},
     "output_type": "display_data"
    }
   ],
   "source": [
    "atEmpiezaBoesAB' = normalizeNodes $ reduce atEmpiezaBoesAB\n",
    "atEmpiezaBoesAB'"
   ]
  },
  {
   "cell_type": "code",
   "execution_count": 186,
   "metadata": {},
   "outputs": [
    {
     "data": {
      "text/plain": [
       "True"
      ]
     },
     "metadata": {},
     "output_type": "display_data"
    },
    {
     "data": {
      "text/plain": [
       "False"
      ]
     },
     "metadata": {},
     "output_type": "display_data"
    },
    {
     "data": {
      "text/plain": [
       "True"
      ]
     },
     "metadata": {},
     "output_type": "display_data"
    }
   ],
   "source": [
    "isRenewed atEmpiezaBoesAB' \"ababababab\"\n",
    "isRenewed atEmpiezaBoesAB' \"abba\"\n",
    "isRenewed atEmpiezaBoesAB' \"babbb\""
   ]
  },
  {
   "cell_type": "markdown",
   "metadata": {},
   "source": [
    "##### Intersección autómatas (andAFD :: AFD -> AFD -> AFD)"
   ]
  },
  {
   "cell_type": "code",
   "execution_count": 147,
   "metadata": {},
   "outputs": [
    {
     "data": {
      "text/plain": [
       "False"
      ]
     },
     "metadata": {},
     "output_type": "display_data"
    },
    {
     "data": {
      "text/plain": [
       "False"
      ]
     },
     "metadata": {},
     "output_type": "display_data"
    },
    {
     "data": {
      "text/plain": [
       "[QP (Q 1) Trash]"
      ]
     },
     "metadata": {},
     "output_type": "display_data"
    }
   ],
   "source": [
    "atEmpiezaAyB = andAFD atEmpiezaA atEmpiezaB\n",
    "\n",
    "isRenewed atEmpiezaAyB \"abaabbbb\"\n",
    "isRenewed atEmpiezaAyB \"babaaa\"\n",
    "\n",
    "deltaB atEmpiezaAyB \"aa\" [QP (Q 0) (Q 0)]"
   ]
  },
  {
   "cell_type": "code",
   "execution_count": 146,
   "metadata": {},
   "outputs": [
    {
     "data": {
      "text/plain": [
       "False"
      ]
     },
     "metadata": {},
     "output_type": "display_data"
    },
    {
     "data": {
      "text/plain": [
       "True"
      ]
     },
     "metadata": {},
     "output_type": "display_data"
    },
    {
     "data": {
      "text/plain": [
       "False"
      ]
     },
     "metadata": {},
     "output_type": "display_data"
    }
   ],
   "source": [
    "ataParyEmpiezaA = andAFD atApar atEmpiezaA\n",
    "\n",
    "isRenewed ataParyEmpiezaA \"babaaa\"\n",
    "isRenewed ataParyEmpiezaA \"abaabbabb\"\n",
    "isRenewed ataParyEmpiezaA \"abaabbbb\""
   ]
  },
  {
   "cell_type": "markdown",
   "metadata": {},
   "source": [
    "##### Autómata complementario (complementaryAFD :: AFD -> AFD)"
   ]
  },
  {
   "cell_type": "code",
   "execution_count": 102,
   "metadata": {},
   "outputs": [
    {
     "data": {
      "text/plain": [
       "False"
      ]
     },
     "metadata": {},
     "output_type": "display_data"
    },
    {
     "data": {
      "text/plain": [
       "True"
      ]
     },
     "metadata": {},
     "output_type": "display_data"
    }
   ],
   "source": [
    "atnoEmpiezaA = complementaryAFD atEmpiezaA\n",
    "\n",
    "isRenewed atnoEmpiezaA \"aabb\"\n",
    "isRenewed atnoEmpiezaA \"bab\""
   ]
  },
  {
   "cell_type": "markdown",
   "metadata": {},
   "source": [
    "##### Autómata diferencia (minusAFD :: AFD -> AFD -> AFD)"
   ]
  },
  {
   "cell_type": "code",
   "execution_count": 107,
   "metadata": {},
   "outputs": [
    {
     "data": {
      "text/plain": [
       "False"
      ]
     },
     "metadata": {},
     "output_type": "display_data"
    },
    {
     "data": {
      "text/plain": [
       "False"
      ]
     },
     "metadata": {},
     "output_type": "display_data"
    },
    {
     "data": {
      "text/plain": [
       "True"
      ]
     },
     "metadata": {},
     "output_type": "display_data"
    }
   ],
   "source": [
    "atAparPeroNoEmpiezaA = minusAFD atApar atEmpiezaA\n",
    "\n",
    "\n",
    "isRenewed atAparPeroNoEmpiezaA \"aabb\"\n",
    "isRenewed atAparPeroNoEmpiezaA \"bab\"\n",
    "isRenewed atAparPeroNoEmpiezaA \"baba\""
   ]
  },
  {
   "cell_type": "markdown",
   "metadata": {},
   "source": [
    "# Autómata finito no determinista"
   ]
  },
  {
   "cell_type": "markdown",
   "metadata": {},
   "source": [
    "$$L_{atAnt} := \\{w_1aw_2:w_1, w_2\\in \\Sigma^*, |w_2| = 2\\}$$"
   ]
  },
  {
   "cell_type": "code",
   "execution_count": 113,
   "metadata": {},
   "outputs": [],
   "source": [
    "deltae :: Char -> Status -> [Status]\n",
    "deltae 'a' (Q 0) = [Q 0, Q 1]\n",
    "deltae _ (Q 0) = [Q 0]\n",
    "\n",
    "deltae _ (Q 1) = [Q 2]\n",
    "deltae _ (Q 2) = [Q 3]\n",
    "\n",
    "deltae _ _ = []\n",
    "\n",
    "afnAnt = AFN \"ab\" [Q 0, Q 1, Q 2, Q 3] (Q 0) deltae [Q 3]"
   ]
  },
  {
   "cell_type": "markdown",
   "metadata": {},
   "source": [
    "Los AFN son instancias de Automata y comparten con AFD las funciones isRenewed y deltaB."
   ]
  },
  {
   "cell_type": "code",
   "execution_count": 136,
   "metadata": {},
   "outputs": [
    {
     "data": {
      "text/plain": [
       "True"
      ]
     },
     "metadata": {},
     "output_type": "display_data"
    },
    {
     "data": {
      "text/plain": [
       "False"
      ]
     },
     "metadata": {},
     "output_type": "display_data"
    }
   ],
   "source": [
    "isRenewed afnAnt \"abbabb\"\n",
    "isRenewed afnAnt \"abbab\""
   ]
  },
  {
   "cell_type": "code",
   "execution_count": 143,
   "metadata": {},
   "outputs": [
    {
     "data": {
      "text/plain": [
       "[Q 0,Q 3]"
      ]
     },
     "metadata": {},
     "output_type": "display_data"
    }
   ],
   "source": [
    "deltaB afnAnt \"abbabb\" [Q 0]"
   ]
  },
  {
   "cell_type": "markdown",
   "metadata": {},
   "source": [
    "### Convertir a AFD y reducción"
   ]
  },
  {
   "cell_type": "code",
   "execution_count": 125,
   "metadata": {
    "scrolled": true
   },
   "outputs": [
    {
     "data": {
      "text/plain": [
       "ab\n",
       "[Trash,QT [Q 0,Q 1,Q 2,Q 3],QT [Q 0,Q 1,Q 2],QT [Q 0,Q 1,Q 3],QT [Q 0,Q 1],QT [Q 0,Q 2,Q 3],QT [Q 0,Q 2],QT [Q 0,Q 3],QT [Q 0],QT [Q 1,Q 2,Q 3],QT [Q 1,Q 2],QT [Q 1,Q 3],QT [Q 1],QT [Q 2,Q 3],QT [Q 2],QT [Q 3],QT []]\n",
       "QT [Q 0]\n",
       "[(Trash,'a',Trash),(Trash,'b',Trash),(QT [Q 0,Q 1,Q 2,Q 3],'a',QT [Q 0,Q 1,Q 2,Q 3]),(QT [Q 0,Q 1,Q 2,Q 3],'b',QT [Q 0,Q 2,Q 3]),(QT [Q 0,Q 1,Q 2],'a',QT [Q 0,Q 1,Q 2,Q 3]),(QT [Q 0,Q 1,Q 2],'b',QT [Q 0,Q 2,Q 3]),(QT [Q 0,Q 1,Q 3],'a',QT [Q 0,Q 1,Q 2]),(QT [Q 0,Q 1,Q 3],'b',QT [Q 0,Q 2]),(QT [Q 0,Q 1],'a',QT [Q 0,Q 1,Q 2]),(QT [Q 0,Q 1],'b',QT [Q 0,Q 2]),(QT [Q 0,Q 2,Q 3],'a',QT [Q 0,Q 1,Q 3]),(QT [Q 0,Q 2,Q 3],'b',QT [Q 0,Q 3]),(QT [Q 0,Q 2],'a',QT [Q 0,Q 1,Q 3]),(QT [Q 0,Q 2],'b',QT [Q 0,Q 3]),(QT [Q 0,Q 3],'a',QT [Q 0,Q 1]),(QT [Q 0,Q 3],'b',QT [Q 0]),(QT [Q 0],'a',QT [Q 0,Q 1]),(QT [Q 0],'b',QT [Q 0]),(QT [Q 1,Q 2,Q 3],'a',QT [Q 2,Q 3]),(QT [Q 1,Q 2,Q 3],'b',QT [Q 2,Q 3]),(QT [Q 1,Q 2],'a',QT [Q 2,Q 3]),(QT [Q 1,Q 2],'b',QT [Q 2,Q 3]),(QT [Q 1,Q 3],'a',QT [Q 2]),(QT [Q 1,Q 3],'b',QT [Q 2]),(QT [Q 1],'a',QT [Q 2]),(QT [Q 1],'b',QT [Q 2]),(QT [Q 2,Q 3],'a',QT [Q 3]),(QT [Q 2,Q 3],'b',QT [Q 3]),(QT [Q 2],'a',QT [Q 3]),(QT [Q 2],'b',QT [Q 3]),(QT [Q 3],'a',QT []),(QT [Q 3],'b',QT []),(QT [],'a',QT []),(QT [],'b',QT [])]\n",
       "[QT [Q 0,Q 1,Q 2,Q 3],QT [Q 0,Q 1,Q 3],QT [Q 0,Q 2,Q 3],QT [Q 0,Q 3],QT [Q 1,Q 2,Q 3],QT [Q 1,Q 3],QT [Q 2,Q 3],QT [Q 3]]"
      ]
     },
     "metadata": {},
     "output_type": "display_data"
    }
   ],
   "source": [
    "afdAnt' = afnToafd afnAnt\n",
    "afdAnt'"
   ]
  },
  {
   "cell_type": "code",
   "execution_count": 189,
   "metadata": {},
   "outputs": [
    {
     "data": {
      "text/plain": [
       "ab\n",
       "[Q 0,Q 1,Q 2,Q 3,Q 4,Q 5,Q 6,Q 7,Q 8]\n",
       "Q 8\n",
       "[(Q 0,'a',Q 0),(Q 0,'b',Q 0),(Q 1,'a',Q 7),(Q 1,'b',Q 8),(Q 2,'a',Q 6),(Q 2,'b',Q 5),(Q 3,'a',Q 2),(Q 3,'b',Q 1),(Q 4,'a',Q 4),(Q 4,'b',Q 3),(Q 5,'a',Q 2),(Q 5,'b',Q 1),(Q 6,'a',Q 4),(Q 6,'b',Q 3),(Q 7,'a',Q 6),(Q 7,'b',Q 5),(Q 8,'a',Q 7),(Q 8,'b',Q 8)]\n",
       "[Q 1,Q 2,Q 3,Q 4]"
      ]
     },
     "metadata": {},
     "output_type": "display_data"
    }
   ],
   "source": [
    "afdAnt = normalizeNodes $ reduce afdAnt'\n",
    "afdAnt"
   ]
  },
  {
   "cell_type": "code",
   "execution_count": 190,
   "metadata": {},
   "outputs": [
    {
     "data": {
      "text/plain": [
       "True"
      ]
     },
     "metadata": {},
     "output_type": "display_data"
    },
    {
     "data": {
      "text/plain": [
       "False"
      ]
     },
     "metadata": {},
     "output_type": "display_data"
    }
   ],
   "source": [
    "isRenewed afdAnt' \"abbabb\"\n",
    "isRenewed afdAnt' \"abbab\""
   ]
  },
  {
   "cell_type": "code",
   "execution_count": 192,
   "metadata": {},
   "outputs": [
    {
     "data": {
      "text/plain": [
       "True"
      ]
     },
     "metadata": {},
     "output_type": "display_data"
    },
    {
     "data": {
      "text/plain": [
       "False"
      ]
     },
     "metadata": {},
     "output_type": "display_data"
    }
   ],
   "source": [
    "isRenewed afdAnt \"abbabb\"\n",
    "isRenewed afdAnt \"abbab\""
   ]
  },
  {
   "cell_type": "markdown",
   "metadata": {},
   "source": [
    "# Autómata finito no determinista con transicciones libres"
   ]
  }
 ],
 "metadata": {
  "kernelspec": {
   "display_name": "Haskell",
   "language": "haskell",
   "name": "haskell"
  },
  "language_info": {
   "codemirror_mode": "ihaskell",
   "file_extension": ".hs",
   "mimetype": "text/x-haskell",
   "name": "haskell",
   "pygments_lexer": "Haskell",
   "version": "8.8.4"
  }
 },
 "nbformat": 4,
 "nbformat_minor": 4
}
