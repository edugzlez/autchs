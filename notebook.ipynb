{
 "cells": [
  {
   "cell_type": "code",
   "execution_count": 1,
   "metadata": {},
   "outputs": [],
   "source": [
    ":l Automata\n",
    "import Automata"
   ]
  },
  {
   "cell_type": "markdown",
   "metadata": {},
   "source": [
    "# Autómata finito determinista"
   ]
  },
  {
   "cell_type": "markdown",
   "metadata": {},
   "source": [
    "### Definición\n",
    "Definición de un autómata que reconoce el lenguaje a(a+b)* \n",
    " $$L_{EmpiezaA} := \\{aw: w\\in\\Sigma^*\\} = b(a+b)*$$ "
   ]
  },
  {
   "cell_type": "code",
   "execution_count": 2,
   "metadata": {},
   "outputs": [],
   "source": [
    "vocab = \"ab\"\n",
    "nodes = [Q 0, Q 1, Trash]\n",
    "initial = Q 0\n",
    "terminals = [Q 1]\n",
    "\n",
    "\n",
    "delta :: Char -> Status -> Status\n",
    "delta 'a' (Q 0) = Q 1\n",
    "delta _ (Q 1) = Q 1\n",
    "delta _ _ = Trash\n",
    "\n",
    "atEmpiezaA = AFD vocab nodes initial delta terminals"
   ]
  },
  {
   "cell_type": "markdown",
   "metadata": {},
   "source": [
    "Definición de un autómata que reconoce el lenguaje $$L_{EmpiezaB} := \\{bw: w\\in\\Sigma^*\\} = b(a+b)*$$ "
   ]
  },
  {
   "cell_type": "code",
   "execution_count": 3,
   "metadata": {},
   "outputs": [],
   "source": [
    "deltab :: Char -> Status -> Status\n",
    "deltab 'b' (Q 0) = Q 1\n",
    "deltab _ (Q 1) = Q 1\n",
    "deltab _ _ = Trash\n",
    "\n",
    "atEmpiezaB = AFD vocab nodes initial deltab terminals"
   ]
  },
  {
   "cell_type": "markdown",
   "metadata": {},
   "source": [
    "Definición de un autómata que reconoce el lenguaje $$L_{atApar} := \\{w: |w|_{a}\\ mod\\ 2\\ =\\ 0\\}$$"
   ]
  },
  {
   "cell_type": "code",
   "execution_count": 4,
   "metadata": {},
   "outputs": [],
   "source": [
    "deltad :: Char -> Status -> Status\n",
    "deltad 'a' (Q 0) = Q 1\n",
    "deltad 'b' (Q 0) = Q 0\n",
    "\n",
    "deltad 'a' (Q 1) = Q 0\n",
    "deltad 'b' (Q 1) = Q 1\n",
    "\n",
    "deltad _ _ = Trash\n",
    "\n",
    "terminalsd = [Q 0]\n",
    "\n",
    "atApar = AFD vocab nodes initial deltad terminalsd"
   ]
  },
  {
   "cell_type": "markdown",
   "metadata": {},
   "source": [
    "Definición de un autómata que reconoce el lenguaje $$L_{ab} := \\{(ab)^n : n \\geq 0\\} = (ab)*$$"
   ]
  },
  {
   "cell_type": "code",
   "execution_count": 5,
   "metadata": {},
   "outputs": [],
   "source": [
    "deltac :: Char -> Status -> Status\n",
    "deltac 'a' (Q 10) = Q 11\n",
    "deltac 'b' (Q 11) = Q 10\n",
    "deltac _ _ = Trash\n",
    "\n",
    "initialc = Q 10\n",
    "nodesc = [Q 10, Q 11, Trash]\n",
    "terminalsc = [Q 10]\n",
    "\n",
    "atab = AFD vocab nodesc initialc deltac terminalsc"
   ]
  },
  {
   "cell_type": "markdown",
   "metadata": {},
   "source": [
    "### Funciones sobre un autómata\n",
    "##### ¿Reconoce una palabra? (isRenewed :: Automata -> [Char] -> Bool)"
   ]
  },
  {
   "cell_type": "code",
   "execution_count": 6,
   "metadata": {},
   "outputs": [
    {
     "data": {
      "text/plain": [
       "True"
      ]
     },
     "metadata": {},
     "output_type": "display_data"
    }
   ],
   "source": [
    "isRenewed atEmpiezaA \"aabb\""
   ]
  },
  {
   "cell_type": "code",
   "execution_count": 7,
   "metadata": {},
   "outputs": [
    {
     "data": {
      "text/plain": [
       "False"
      ]
     },
     "metadata": {},
     "output_type": "display_data"
    }
   ],
   "source": [
    "isRenewed atEmpiezaA \"bab\""
   ]
  },
  {
   "cell_type": "code",
   "execution_count": 8,
   "metadata": {},
   "outputs": [
    {
     "data": {
      "text/plain": [
       "False"
      ]
     },
     "metadata": {},
     "output_type": "display_data"
    }
   ],
   "source": [
    "isRenewed atEmpiezaB \"aabb\""
   ]
  },
  {
   "cell_type": "code",
   "execution_count": 9,
   "metadata": {},
   "outputs": [
    {
     "data": {
      "text/plain": [
       "True"
      ]
     },
     "metadata": {},
     "output_type": "display_data"
    }
   ],
   "source": [
    "isRenewed atEmpiezaB \"bab\""
   ]
  },
  {
   "cell_type": "code",
   "execution_count": 10,
   "metadata": {},
   "outputs": [
    {
     "data": {
      "text/plain": [
       "False"
      ]
     },
     "metadata": {},
     "output_type": "display_data"
    }
   ],
   "source": [
    "isRenewed atab \"aabb\""
   ]
  },
  {
   "cell_type": "code",
   "execution_count": 11,
   "metadata": {},
   "outputs": [
    {
     "data": {
      "text/plain": [
       "False"
      ]
     },
     "metadata": {},
     "output_type": "display_data"
    }
   ],
   "source": [
    "isRenewed atab \"bab\""
   ]
  },
  {
   "cell_type": "code",
   "execution_count": 12,
   "metadata": {},
   "outputs": [
    {
     "data": {
      "text/plain": [
       "True"
      ]
     },
     "metadata": {},
     "output_type": "display_data"
    }
   ],
   "source": [
    "isRenewed atab \"abab\""
   ]
  },
  {
   "cell_type": "code",
   "execution_count": 13,
   "metadata": {},
   "outputs": [
    {
     "data": {
      "text/plain": [
       "False"
      ]
     },
     "metadata": {},
     "output_type": "display_data"
    }
   ],
   "source": [
    "isRenewed atApar \"abaabb\""
   ]
  },
  {
   "cell_type": "code",
   "execution_count": 14,
   "metadata": {},
   "outputs": [
    {
     "data": {
      "text/plain": [
       "True"
      ]
     },
     "metadata": {},
     "output_type": "display_data"
    }
   ],
   "source": [
    "isRenewed atApar \"abaabba\""
   ]
  },
  {
   "cell_type": "markdown",
   "metadata": {},
   "source": [
    "##### Función delta\n",
    "Dado un autómata, una palabra y una lista de estados devuelve la lista de estados a los que llega"
   ]
  },
  {
   "cell_type": "code",
   "execution_count": 15,
   "metadata": {},
   "outputs": [
    {
     "data": {
      "text/plain": [
       "[Q 1]"
      ]
     },
     "metadata": {},
     "output_type": "display_data"
    }
   ],
   "source": [
    "deltaB atEmpiezaA \"aa\" [Q 0]"
   ]
  },
  {
   "cell_type": "code",
   "execution_count": 16,
   "metadata": {},
   "outputs": [
    {
     "data": {
      "text/plain": [
       "[Trash,Q 10]"
      ]
     },
     "metadata": {},
     "output_type": "display_data"
    }
   ],
   "source": [
    "deltaB atab \"bab\" [Q 10, Q 11]"
   ]
  },
  {
   "cell_type": "markdown",
   "metadata": {},
   "source": [
    "##### Función normalizeNodes (normalizeNodes :: AFD -> AFD)\n",
    "Dado un AFD retorna el AFD con los estados renombrados a $q_0, q_1, ..., q_n$"
   ]
  },
  {
   "cell_type": "code",
   "execution_count": 17,
   "metadata": {},
   "outputs": [
    {
     "data": {
      "text/plain": [
       "ab\n",
       "[Q 0,Q 1,Q 2]\n",
       "Q 0\n",
       "[(Q 0,'a',Q 1),(Q 0,'b',Q 2),(Q 1,'a',Q 2),(Q 1,'b',Q 0),(Q 2,'a',Q 2),(Q 2,'b',Q 2)]\n",
       "[Q 0]"
      ]
     },
     "metadata": {},
     "output_type": "display_data"
    }
   ],
   "source": [
    "atab' = normalizeNodes atab\n",
    "atab'"
   ]
  },
  {
   "cell_type": "code",
   "execution_count": 18,
   "metadata": {},
   "outputs": [
    {
     "data": {
      "text/plain": [
       "False"
      ]
     },
     "metadata": {},
     "output_type": "display_data"
    },
    {
     "data": {
      "text/plain": [
       "False"
      ]
     },
     "metadata": {},
     "output_type": "display_data"
    },
    {
     "data": {
      "text/plain": [
       "True"
      ]
     },
     "metadata": {},
     "output_type": "display_data"
    }
   ],
   "source": [
    "isRenewed atab' \"aabb\"\n",
    "isRenewed atab' \"bab\"\n",
    "isRenewed atab' \"abab\""
   ]
  },
  {
   "cell_type": "markdown",
   "metadata": {},
   "source": [
    "##### Función reduce (reduce :: AFD -> AFD)\n",
    "Elimina nodos no alcanzables. El ejemplo se verá después."
   ]
  },
  {
   "cell_type": "markdown",
   "metadata": {},
   "source": [
    "### Operaciones sobre AFD\n",
    "##### Suma de autómatas (orAFD :: AFD -> AFD -> AFD)"
   ]
  },
  {
   "cell_type": "code",
   "execution_count": 19,
   "metadata": {},
   "outputs": [
    {
     "data": {
      "text/plain": [
       "True"
      ]
     },
     "metadata": {},
     "output_type": "display_data"
    },
    {
     "data": {
      "text/plain": [
       "True"
      ]
     },
     "metadata": {},
     "output_type": "display_data"
    },
    {
     "data": {
      "text/plain": [
       "[QP (Q 1) Trash]"
      ]
     },
     "metadata": {},
     "output_type": "display_data"
    }
   ],
   "source": [
    "atEmpiezaAoB = orAFD atEmpiezaA atEmpiezaB\n",
    "\n",
    "isRenewed atEmpiezaAoB \"abaabbbb\"\n",
    "isRenewed atEmpiezaAoB \"babaaa\"\n",
    "\n",
    "deltaB atEmpiezaAoB \"abaabbbb\" [QP (Q 0) (Q 0)]"
   ]
  },
  {
   "cell_type": "code",
   "execution_count": 20,
   "metadata": {},
   "outputs": [
    {
     "data": {
      "text/plain": [
       "True"
      ]
     },
     "metadata": {},
     "output_type": "display_data"
    },
    {
     "data": {
      "text/plain": [
       "False"
      ]
     },
     "metadata": {},
     "output_type": "display_data"
    },
    {
     "data": {
      "text/plain": [
       "True"
      ]
     },
     "metadata": {},
     "output_type": "display_data"
    }
   ],
   "source": [
    "atEmpiezaBoesAB = orAFD atEmpiezaB atab\n",
    "\n",
    "isRenewed atEmpiezaBoesAB \"ababababab\"\n",
    "isRenewed atEmpiezaBoesAB \"abba\"\n",
    "isRenewed atEmpiezaBoesAB \"babbb\""
   ]
  },
  {
   "cell_type": "code",
   "execution_count": 21,
   "metadata": {},
   "outputs": [
    {
     "data": {
      "text/plain": [
       "ab\n",
       "[Trash,QP (Q 0) (Q 10),QP (Q 0) (Q 11),QP (Q 0) Trash,QP (Q 1) (Q 10),QP (Q 1) (Q 11),QP (Q 1) Trash,QP Trash (Q 10),QP Trash (Q 11),QP Trash Trash]\n",
       "QP (Q 0) (Q 10)\n",
       "[(Trash,'a',Trash),(Trash,'b',Trash),(QP (Q 0) (Q 10),'a',QP Trash (Q 11)),(QP (Q 0) (Q 10),'b',QP (Q 1) Trash),(QP (Q 0) (Q 11),'a',QP Trash Trash),(QP (Q 0) (Q 11),'b',QP (Q 1) (Q 10)),(QP (Q 0) Trash,'a',QP Trash Trash),(QP (Q 0) Trash,'b',QP (Q 1) Trash),(QP (Q 1) (Q 10),'a',QP (Q 1) (Q 11)),(QP (Q 1) (Q 10),'b',QP (Q 1) Trash),(QP (Q 1) (Q 11),'a',QP (Q 1) Trash),(QP (Q 1) (Q 11),'b',QP (Q 1) (Q 10)),(QP (Q 1) Trash,'a',QP (Q 1) Trash),(QP (Q 1) Trash,'b',QP (Q 1) Trash),(QP Trash (Q 10),'a',QP Trash (Q 11)),(QP Trash (Q 10),'b',QP Trash Trash),(QP Trash (Q 11),'a',QP Trash Trash),(QP Trash (Q 11),'b',QP Trash (Q 10)),(QP Trash Trash,'a',QP Trash Trash),(QP Trash Trash,'b',QP Trash Trash)]\n",
       "[QP (Q 0) (Q 10),QP (Q 1) (Q 10),QP (Q 1) (Q 11),QP (Q 1) Trash,QP Trash (Q 10)]"
      ]
     },
     "metadata": {},
     "output_type": "display_data"
    }
   ],
   "source": [
    "atEmpiezaBoesAB"
   ]
  },
  {
   "cell_type": "code",
   "execution_count": 22,
   "metadata": {},
   "outputs": [
    {
     "data": {
      "text/plain": [
       "ab\n",
       "[Q 0,Q 1,Q 2,Q 3,Q 4,Q 5]\n",
       "Q 5\n",
       "[(Q 0,'a',Q 0),(Q 0,'b',Q 0),(Q 1,'a',Q 4),(Q 1,'b',Q 2),(Q 2,'a',Q 2),(Q 2,'b',Q 2),(Q 3,'a',Q 3),(Q 3,'b',Q 3),(Q 4,'a',Q 2),(Q 4,'b',Q 1),(Q 5,'a',Q 4),(Q 5,'b',Q 3)]\n",
       "[Q 1,Q 3,Q 5]"
      ]
     },
     "metadata": {},
     "output_type": "display_data"
    }
   ],
   "source": [
    "atEmpiezaBoesAB' = normalizeNodes $ reduce atEmpiezaBoesAB\n",
    "atEmpiezaBoesAB'"
   ]
  },
  {
   "cell_type": "code",
   "execution_count": 23,
   "metadata": {},
   "outputs": [
    {
     "data": {
      "text/plain": [
       "True"
      ]
     },
     "metadata": {},
     "output_type": "display_data"
    },
    {
     "data": {
      "text/plain": [
       "False"
      ]
     },
     "metadata": {},
     "output_type": "display_data"
    },
    {
     "data": {
      "text/plain": [
       "True"
      ]
     },
     "metadata": {},
     "output_type": "display_data"
    }
   ],
   "source": [
    "isRenewed atEmpiezaBoesAB' \"ababababab\"\n",
    "isRenewed atEmpiezaBoesAB' \"abba\"\n",
    "isRenewed atEmpiezaBoesAB' \"babbb\""
   ]
  },
  {
   "cell_type": "markdown",
   "metadata": {},
   "source": [
    "##### Intersección autómatas (andAFD :: AFD -> AFD -> AFD)"
   ]
  },
  {
   "cell_type": "code",
   "execution_count": 24,
   "metadata": {},
   "outputs": [
    {
     "data": {
      "text/plain": [
       "False"
      ]
     },
     "metadata": {},
     "output_type": "display_data"
    },
    {
     "data": {
      "text/plain": [
       "False"
      ]
     },
     "metadata": {},
     "output_type": "display_data"
    },
    {
     "data": {
      "text/plain": [
       "[QP (Q 1) Trash]"
      ]
     },
     "metadata": {},
     "output_type": "display_data"
    }
   ],
   "source": [
    "atEmpiezaAyB = andAFD atEmpiezaA atEmpiezaB\n",
    "\n",
    "isRenewed atEmpiezaAyB \"abaabbbb\"\n",
    "isRenewed atEmpiezaAyB \"babaaa\"\n",
    "\n",
    "deltaB atEmpiezaAyB \"aa\" [QP (Q 0) (Q 0)]"
   ]
  },
  {
   "cell_type": "code",
   "execution_count": 25,
   "metadata": {},
   "outputs": [
    {
     "data": {
      "text/plain": [
       "False"
      ]
     },
     "metadata": {},
     "output_type": "display_data"
    },
    {
     "data": {
      "text/plain": [
       "True"
      ]
     },
     "metadata": {},
     "output_type": "display_data"
    },
    {
     "data": {
      "text/plain": [
       "False"
      ]
     },
     "metadata": {},
     "output_type": "display_data"
    }
   ],
   "source": [
    "ataParyEmpiezaA = andAFD atApar atEmpiezaA\n",
    "\n",
    "isRenewed ataParyEmpiezaA \"babaaa\"\n",
    "isRenewed ataParyEmpiezaA \"abaabbabb\"\n",
    "isRenewed ataParyEmpiezaA \"abaabbbb\""
   ]
  },
  {
   "cell_type": "markdown",
   "metadata": {},
   "source": [
    "##### Autómata complementario (complementaryAFD :: AFD -> AFD)"
   ]
  },
  {
   "cell_type": "code",
   "execution_count": 26,
   "metadata": {},
   "outputs": [
    {
     "data": {
      "text/plain": [
       "False"
      ]
     },
     "metadata": {},
     "output_type": "display_data"
    },
    {
     "data": {
      "text/plain": [
       "True"
      ]
     },
     "metadata": {},
     "output_type": "display_data"
    }
   ],
   "source": [
    "atnoEmpiezaA = complementaryAFD atEmpiezaA\n",
    "\n",
    "isRenewed atnoEmpiezaA \"aabb\"\n",
    "isRenewed atnoEmpiezaA \"bab\""
   ]
  },
  {
   "cell_type": "markdown",
   "metadata": {},
   "source": [
    "##### Autómata diferencia (minusAFD :: AFD -> AFD -> AFD)"
   ]
  },
  {
   "cell_type": "code",
   "execution_count": 27,
   "metadata": {},
   "outputs": [
    {
     "data": {
      "text/plain": [
       "False"
      ]
     },
     "metadata": {},
     "output_type": "display_data"
    },
    {
     "data": {
      "text/plain": [
       "False"
      ]
     },
     "metadata": {},
     "output_type": "display_data"
    },
    {
     "data": {
      "text/plain": [
       "True"
      ]
     },
     "metadata": {},
     "output_type": "display_data"
    }
   ],
   "source": [
    "atAparPeroNoEmpiezaA = minusAFD atApar atEmpiezaA\n",
    "\n",
    "\n",
    "isRenewed atAparPeroNoEmpiezaA \"aabb\"\n",
    "isRenewed atAparPeroNoEmpiezaA \"bab\"\n",
    "isRenewed atAparPeroNoEmpiezaA \"baba\""
   ]
  },
  {
   "cell_type": "markdown",
   "metadata": {},
   "source": [
    "# Autómata finito no determinista"
   ]
  },
  {
   "cell_type": "markdown",
   "metadata": {},
   "source": [
    "$$L_{atAnt} := \\{w_1aw_2:w_1, w_2\\in \\Sigma^*, |w_2| = 2\\}$$"
   ]
  },
  {
   "cell_type": "code",
   "execution_count": 28,
   "metadata": {},
   "outputs": [],
   "source": [
    "deltae :: Char -> Status -> [Status]\n",
    "deltae 'a' (Q 0) = [Q 0, Q 1]\n",
    "deltae _ (Q 0) = [Q 0]\n",
    "\n",
    "deltae _ (Q 1) = [Q 2]\n",
    "deltae _ (Q 2) = [Q 3]\n",
    "\n",
    "deltae _ _ = []\n",
    "\n",
    "afnAnt = AFN \"ab\" [Q 0, Q 1, Q 2, Q 3] (Q 0) deltae [Q 3]"
   ]
  },
  {
   "cell_type": "markdown",
   "metadata": {},
   "source": [
    "Los AFN son instancias de Automata y comparten con AFD las funciones isRenewed y deltaB."
   ]
  },
  {
   "cell_type": "code",
   "execution_count": 29,
   "metadata": {},
   "outputs": [
    {
     "data": {
      "text/plain": [
       "True"
      ]
     },
     "metadata": {},
     "output_type": "display_data"
    },
    {
     "data": {
      "text/plain": [
       "False"
      ]
     },
     "metadata": {},
     "output_type": "display_data"
    }
   ],
   "source": [
    "isRenewed afnAnt \"abbabb\"\n",
    "isRenewed afnAnt \"abbab\""
   ]
  },
  {
   "cell_type": "code",
   "execution_count": 30,
   "metadata": {},
   "outputs": [
    {
     "data": {
      "text/plain": [
       "[Q 0,Q 3]"
      ]
     },
     "metadata": {},
     "output_type": "display_data"
    }
   ],
   "source": [
    "deltaB afnAnt \"abbabb\" [Q 0]"
   ]
  },
  {
   "cell_type": "markdown",
   "metadata": {},
   "source": [
    "### Convertir a AFD y reducción"
   ]
  },
  {
   "cell_type": "code",
   "execution_count": 31,
   "metadata": {
    "scrolled": true
   },
   "outputs": [
    {
     "data": {
      "text/plain": [
       "ab\n",
       "[Trash,QT [Q 0,Q 1,Q 2,Q 3],QT [Q 0,Q 1,Q 2],QT [Q 0,Q 1,Q 3],QT [Q 0,Q 1],QT [Q 0,Q 2,Q 3],QT [Q 0,Q 2],QT [Q 0,Q 3],QT [Q 0],QT [Q 1,Q 2,Q 3],QT [Q 1,Q 2],QT [Q 1,Q 3],QT [Q 1],QT [Q 2,Q 3],QT [Q 2],QT [Q 3],QT []]\n",
       "QT [Q 0]\n",
       "[(Trash,'a',Trash),(Trash,'b',Trash),(QT [Q 0,Q 1,Q 2,Q 3],'a',QT [Q 0,Q 1,Q 2,Q 3]),(QT [Q 0,Q 1,Q 2,Q 3],'b',QT [Q 0,Q 2,Q 3]),(QT [Q 0,Q 1,Q 2],'a',QT [Q 0,Q 1,Q 2,Q 3]),(QT [Q 0,Q 1,Q 2],'b',QT [Q 0,Q 2,Q 3]),(QT [Q 0,Q 1,Q 3],'a',QT [Q 0,Q 1,Q 2]),(QT [Q 0,Q 1,Q 3],'b',QT [Q 0,Q 2]),(QT [Q 0,Q 1],'a',QT [Q 0,Q 1,Q 2]),(QT [Q 0,Q 1],'b',QT [Q 0,Q 2]),(QT [Q 0,Q 2,Q 3],'a',QT [Q 0,Q 1,Q 3]),(QT [Q 0,Q 2,Q 3],'b',QT [Q 0,Q 3]),(QT [Q 0,Q 2],'a',QT [Q 0,Q 1,Q 3]),(QT [Q 0,Q 2],'b',QT [Q 0,Q 3]),(QT [Q 0,Q 3],'a',QT [Q 0,Q 1]),(QT [Q 0,Q 3],'b',QT [Q 0]),(QT [Q 0],'a',QT [Q 0,Q 1]),(QT [Q 0],'b',QT [Q 0]),(QT [Q 1,Q 2,Q 3],'a',QT [Q 2,Q 3]),(QT [Q 1,Q 2,Q 3],'b',QT [Q 2,Q 3]),(QT [Q 1,Q 2],'a',QT [Q 2,Q 3]),(QT [Q 1,Q 2],'b',QT [Q 2,Q 3]),(QT [Q 1,Q 3],'a',QT [Q 2]),(QT [Q 1,Q 3],'b',QT [Q 2]),(QT [Q 1],'a',QT [Q 2]),(QT [Q 1],'b',QT [Q 2]),(QT [Q 2,Q 3],'a',QT [Q 3]),(QT [Q 2,Q 3],'b',QT [Q 3]),(QT [Q 2],'a',QT [Q 3]),(QT [Q 2],'b',QT [Q 3]),(QT [Q 3],'a',QT []),(QT [Q 3],'b',QT []),(QT [],'a',QT []),(QT [],'b',QT [])]\n",
       "[QT [Q 0,Q 1,Q 2,Q 3],QT [Q 0,Q 1,Q 3],QT [Q 0,Q 2,Q 3],QT [Q 0,Q 3],QT [Q 1,Q 2,Q 3],QT [Q 1,Q 3],QT [Q 2,Q 3],QT [Q 3]]"
      ]
     },
     "metadata": {},
     "output_type": "display_data"
    }
   ],
   "source": [
    "afdAnt' = afnToafd afnAnt\n",
    "afdAnt'"
   ]
  },
  {
   "cell_type": "code",
   "execution_count": 32,
   "metadata": {},
   "outputs": [
    {
     "data": {
      "text/plain": [
       "ab\n",
       "[Q 0,Q 1,Q 2,Q 3,Q 4,Q 5,Q 6,Q 7,Q 8]\n",
       "Q 8\n",
       "[(Q 0,'a',Q 0),(Q 0,'b',Q 0),(Q 1,'a',Q 7),(Q 1,'b',Q 8),(Q 2,'a',Q 6),(Q 2,'b',Q 5),(Q 3,'a',Q 2),(Q 3,'b',Q 1),(Q 4,'a',Q 4),(Q 4,'b',Q 3),(Q 5,'a',Q 2),(Q 5,'b',Q 1),(Q 6,'a',Q 4),(Q 6,'b',Q 3),(Q 7,'a',Q 6),(Q 7,'b',Q 5),(Q 8,'a',Q 7),(Q 8,'b',Q 8)]\n",
       "[Q 1,Q 2,Q 3,Q 4]"
      ]
     },
     "metadata": {},
     "output_type": "display_data"
    }
   ],
   "source": [
    "afdAnt = normalizeNodes $ reduce afdAnt'\n",
    "afdAnt"
   ]
  },
  {
   "cell_type": "code",
   "execution_count": 33,
   "metadata": {},
   "outputs": [
    {
     "data": {
      "text/plain": [
       "True"
      ]
     },
     "metadata": {},
     "output_type": "display_data"
    },
    {
     "data": {
      "text/plain": [
       "False"
      ]
     },
     "metadata": {},
     "output_type": "display_data"
    }
   ],
   "source": [
    "isRenewed afdAnt' \"abbabb\"\n",
    "isRenewed afdAnt' \"abbab\""
   ]
  },
  {
   "cell_type": "code",
   "execution_count": 34,
   "metadata": {},
   "outputs": [
    {
     "data": {
      "text/plain": [
       "True"
      ]
     },
     "metadata": {},
     "output_type": "display_data"
    },
    {
     "data": {
      "text/plain": [
       "False"
      ]
     },
     "metadata": {},
     "output_type": "display_data"
    }
   ],
   "source": [
    "isRenewed afdAnt \"abbabb\"\n",
    "isRenewed afdAnt \"abbab\""
   ]
  },
  {
   "cell_type": "markdown",
   "metadata": {},
   "source": [
    "# Autómata finito no determinista con transicciones libres\n",
    "\n",
    " $$L_{EmpiezaAoTerminaB} := \\{aw: w\\in\\Sigma^*\\}\\cup \\{wb: w\\in\\Sigma^*\\} = a(a+b)* + (a+b)*b$$ "
   ]
  },
  {
   "cell_type": "code",
   "execution_count": 35,
   "metadata": {},
   "outputs": [],
   "source": [
    "deltax :: Char -> Status -> [Status]\n",
    "deltax 'a' (Q 0) = [Q 1]\n",
    "deltax 'a' (Q 1) = [Q 1]\n",
    "deltax 'b' (Q 1) = [Q 1]\n",
    "deltax 'a' (Q 2) = [Q 2]\n",
    "deltax 'b' (Q 2) = [Q 2, Q 3]\n",
    "deltax _ _ = []\n",
    "\n",
    "\n",
    "epsilon :: Status -> [Status]\n",
    "epsilon (Q 100) = [Q 0, Q 2]\n",
    "epsilon _ = []\n",
    "\n",
    "afneAB = AFNe \"ab\" [Q 100, Q 0, Q 1, Q 2, Q 3] (Q 100) deltax [Q 1, Q 3] epsilon"
   ]
  },
  {
   "cell_type": "code",
   "execution_count": 36,
   "metadata": {},
   "outputs": [
    {
     "data": {
      "text/plain": [
       "ab\n",
       "[Q 100,Q 0,Q 1,Q 2,Q 3]\n",
       "Q 100\n",
       "[(Q 100,'a',[]),(Q 100,'b',[]),(Q 0,'a',[Q 1]),(Q 0,'b',[]),(Q 1,'a',[Q 1]),(Q 1,'b',[Q 1]),(Q 2,'a',[Q 2]),(Q 2,'b',[Q 2,Q 3]),(Q 3,'a',[]),(Q 3,'b',[])]\n",
       "[Q 1,Q 3]\n",
       "[(Q 100,[Q 0,Q 2]),(Q 0,[]),(Q 1,[]),(Q 2,[]),(Q 3,[])]"
      ]
     },
     "metadata": {},
     "output_type": "display_data"
    }
   ],
   "source": [
    "afneAB"
   ]
  },
  {
   "cell_type": "markdown",
   "metadata": {},
   "source": [
    "### Reconocimiento de cadenas"
   ]
  },
  {
   "cell_type": "code",
   "execution_count": 37,
   "metadata": {},
   "outputs": [
    {
     "data": {
      "text/plain": [
       "True"
      ]
     },
     "metadata": {},
     "output_type": "display_data"
    },
    {
     "data": {
      "text/plain": [
       "True"
      ]
     },
     "metadata": {},
     "output_type": "display_data"
    },
    {
     "data": {
      "text/plain": [
       "False"
      ]
     },
     "metadata": {},
     "output_type": "display_data"
    }
   ],
   "source": [
    "isRenewed afneAB \"abbba\"\n",
    "isRenewed afneAB \"bbbab\"\n",
    "isRenewed afneAB \"baaba\""
   ]
  },
  {
   "cell_type": "markdown",
   "metadata": {},
   "source": [
    "### Conversión a AFN y AFD"
   ]
  },
  {
   "cell_type": "code",
   "execution_count": 38,
   "metadata": {},
   "outputs": [
    {
     "data": {
      "text/plain": [
       "ab\n",
       "[Trash,QT [Q 100,Q 0,Q 1,Q 2,Q 3],QT [Q 100,Q 0,Q 1,Q 2],QT [Q 100,Q 0,Q 1,Q 3],QT [Q 100,Q 0,Q 1],QT [Q 100,Q 0,Q 2,Q 3],QT [Q 100,Q 0,Q 2],QT [Q 100,Q 0,Q 3],QT [Q 100,Q 0],QT [Q 100,Q 1,Q 2,Q 3],QT [Q 100,Q 1,Q 2],QT [Q 100,Q 1,Q 3],QT [Q 100,Q 1],QT [Q 100,Q 2,Q 3],QT [Q 100,Q 2],QT [Q 100,Q 3],QT [Q 100],QT [Q 0,Q 1,Q 2,Q 3],QT [Q 0,Q 1,Q 2],QT [Q 0,Q 1,Q 3],QT [Q 0,Q 1],QT [Q 0,Q 2,Q 3],QT [Q 0,Q 2],QT [Q 0,Q 3],QT [Q 0],QT [Q 1,Q 2,Q 3],QT [Q 1,Q 2],QT [Q 1,Q 3],QT [Q 1],QT [Q 2,Q 3],QT [Q 2],QT [Q 3],QT []]\n",
       "QT [Q 100]\n",
       "[(Trash,'a',Trash),(Trash,'b',Trash),(QT [Q 100,Q 0,Q 1,Q 2,Q 3],'a',QT [Q 1,Q 2,Q 1,Q 1,Q 2]),(QT [Q 100,Q 0,Q 1,Q 2,Q 3],'b',QT [Q 2,Q 3,Q 1,Q 2,Q 3]),(QT [Q 100,Q 0,Q 1,Q 2],'a',QT [Q 1,Q 2,Q 1,Q 1,Q 2]),(QT [Q 100,Q 0,Q 1,Q 2],'b',QT [Q 2,Q 3,Q 1,Q 2,Q 3]),(QT [Q 100,Q 0,Q 1,Q 3],'a',QT [Q 1,Q 2,Q 1,Q 1]),(QT [Q 100,Q 0,Q 1,Q 3],'b',QT [Q 2,Q 3,Q 1]),(QT [Q 100,Q 0,Q 1],'a',QT [Q 1,Q 2,Q 1,Q 1]),(QT [Q 100,Q 0,Q 1],'b',QT [Q 2,Q 3,Q 1]),(QT [Q 100,Q 0,Q 2,Q 3],'a',QT [Q 1,Q 2,Q 1,Q 2]),(QT [Q 100,Q 0,Q 2,Q 3],'b',QT [Q 2,Q 3,Q 2,Q 3]),(QT [Q 100,Q 0,Q 2],'a',QT [Q 1,Q 2,Q 1,Q 2]),(QT [Q 100,Q 0,Q 2],'b',QT [Q 2,Q 3,Q 2,Q 3]),(QT [Q 100,Q 0,Q 3],'a',QT [Q 1,Q 2,Q 1]),(QT [Q 100,Q 0,Q 3],'b',QT [Q 2,Q 3]),(QT [Q 100,Q 0],'a',QT [Q 1,Q 2,Q 1]),(QT [Q 100,Q 0],'b',QT [Q 2,Q 3]),(QT [Q 100,Q 1,Q 2,Q 3],'a',QT [Q 1,Q 2,Q 1,Q 2]),(QT [Q 100,Q 1,Q 2,Q 3],'b',QT [Q 2,Q 3,Q 1,Q 2,Q 3]),(QT [Q 100,Q 1,Q 2],'a',QT [Q 1,Q 2,Q 1,Q 2]),(QT [Q 100,Q 1,Q 2],'b',QT [Q 2,Q 3,Q 1,Q 2,Q 3]),(QT [Q 100,Q 1,Q 3],'a',QT [Q 1,Q 2,Q 1]),(QT [Q 100,Q 1,Q 3],'b',QT [Q 2,Q 3,Q 1]),(QT [Q 100,Q 1],'a',QT [Q 1,Q 2,Q 1]),(QT [Q 100,Q 1],'b',QT [Q 2,Q 3,Q 1]),(QT [Q 100,Q 2,Q 3],'a',QT [Q 1,Q 2,Q 2]),(QT [Q 100,Q 2,Q 3],'b',QT [Q 2,Q 3,Q 2,Q 3]),(QT [Q 100,Q 2],'a',QT [Q 1,Q 2,Q 2]),(QT [Q 100,Q 2],'b',QT [Q 2,Q 3,Q 2,Q 3]),(QT [Q 100,Q 3],'a',QT [Q 1,Q 2]),(QT [Q 100,Q 3],'b',QT [Q 2,Q 3]),(QT [Q 100],'a',QT [Q 1,Q 2]),(QT [Q 100],'b',QT [Q 2,Q 3]),(QT [Q 0,Q 1,Q 2,Q 3],'a',QT [Q 1,Q 1,Q 2]),(QT [Q 0,Q 1,Q 2,Q 3],'b',QT [Q 1,Q 2,Q 3]),(QT [Q 0,Q 1,Q 2],'a',QT [Q 1,Q 1,Q 2]),(QT [Q 0,Q 1,Q 2],'b',QT [Q 1,Q 2,Q 3]),(QT [Q 0,Q 1,Q 3],'a',QT [Q 1,Q 1]),(QT [Q 0,Q 1,Q 3],'b',QT [Q 1]),(QT [Q 0,Q 1],'a',QT [Q 1,Q 1]),(QT [Q 0,Q 1],'b',QT [Q 1]),(QT [Q 0,Q 2,Q 3],'a',QT [Q 1,Q 2]),(QT [Q 0,Q 2,Q 3],'b',QT [Q 2,Q 3]),(QT [Q 0,Q 2],'a',QT [Q 1,Q 2]),(QT [Q 0,Q 2],'b',QT [Q 2,Q 3]),(QT [Q 0,Q 3],'a',QT [Q 1]),(QT [Q 0,Q 3],'b',QT []),(QT [Q 0],'a',QT [Q 1]),(QT [Q 0],'b',QT []),(QT [Q 1,Q 2,Q 3],'a',QT [Q 1,Q 2]),(QT [Q 1,Q 2,Q 3],'b',QT [Q 1,Q 2,Q 3]),(QT [Q 1,Q 2],'a',QT [Q 1,Q 2]),(QT [Q 1,Q 2],'b',QT [Q 1,Q 2,Q 3]),(QT [Q 1,Q 3],'a',QT [Q 1]),(QT [Q 1,Q 3],'b',QT [Q 1]),(QT [Q 1],'a',QT [Q 1]),(QT [Q 1],'b',QT [Q 1]),(QT [Q 2,Q 3],'a',QT [Q 2]),(QT [Q 2,Q 3],'b',QT [Q 2,Q 3]),(QT [Q 2],'a',QT [Q 2]),(QT [Q 2],'b',QT [Q 2,Q 3]),(QT [Q 3],'a',QT []),(QT [Q 3],'b',QT []),(QT [],'a',QT []),(QT [],'b',QT [])]\n",
       "[QT [Q 100,Q 0,Q 1,Q 2,Q 3],QT [Q 100,Q 0,Q 1,Q 2],QT [Q 100,Q 0,Q 1,Q 3],QT [Q 100,Q 0,Q 1],QT [Q 100,Q 0,Q 2,Q 3],QT [Q 100,Q 0,Q 3],QT [Q 100,Q 1,Q 2,Q 3],QT [Q 100,Q 1,Q 2],QT [Q 100,Q 1,Q 3],QT [Q 100,Q 1],QT [Q 100,Q 2,Q 3],QT [Q 100,Q 3],QT [Q 0,Q 1,Q 2,Q 3],QT [Q 0,Q 1,Q 2],QT [Q 0,Q 1,Q 3],QT [Q 0,Q 1],QT [Q 0,Q 2,Q 3],QT [Q 0,Q 3],QT [Q 1,Q 2,Q 3],QT [Q 1,Q 2],QT [Q 1,Q 3],QT [Q 1],QT [Q 2,Q 3],QT [Q 3]]"
      ]
     },
     "metadata": {},
     "output_type": "display_data"
    }
   ],
   "source": [
    "afnAB = afneToafn afneAB\n",
    "afdAB = afnToafd afnAB\n",
    "afdAB"
   ]
  },
  {
   "cell_type": "code",
   "execution_count": 39,
   "metadata": {},
   "outputs": [
    {
     "data": {
      "text/plain": [
       "ab\n",
       "[Q 0,Q 1,Q 2,Q 3,Q 4,Q 5]\n",
       "Q 5\n",
       "[(Q 0,'a',Q 0),(Q 0,'b',Q 0),(Q 1,'a',Q 1),(Q 1,'b',Q 3),(Q 2,'a',Q 4),(Q 2,'b',Q 2),(Q 3,'a',Q 1),(Q 3,'b',Q 3),(Q 4,'a',Q 4),(Q 4,'b',Q 2),(Q 5,'a',Q 4),(Q 5,'b',Q 3)]\n",
       "[Q 2,Q 3,Q 4]"
      ]
     },
     "metadata": {},
     "output_type": "display_data"
    }
   ],
   "source": [
    "afdAB' = normalizeNodes $ reduce afdAB\n",
    "afdAB'"
   ]
  },
  {
   "cell_type": "code",
   "execution_count": 40,
   "metadata": {},
   "outputs": [
    {
     "data": {
      "text/plain": [
       "True"
      ]
     },
     "metadata": {},
     "output_type": "display_data"
    },
    {
     "data": {
      "text/plain": [
       "True"
      ]
     },
     "metadata": {},
     "output_type": "display_data"
    },
    {
     "data": {
      "text/plain": [
       "False"
      ]
     },
     "metadata": {},
     "output_type": "display_data"
    }
   ],
   "source": [
    "isRenewed afdAB' \"abbba\"\n",
    "isRenewed afdAB' \"bbbab\"\n",
    "isRenewed afdAB' \"baaba\""
   ]
  },
  {
   "cell_type": "markdown",
   "metadata": {},
   "source": [
    "# Expresiones regulares"
   ]
  },
  {
   "cell_type": "code",
   "execution_count": 41,
   "metadata": {},
   "outputs": [],
   "source": [
    "a = RexChar 'a'\n",
    "b = RexChar 'b'\n",
    "c = RexChar 'c'"
   ]
  },
  {
   "cell_type": "markdown",
   "metadata": {},
   "source": [
    "### Concatenación de expresiones regulares"
   ]
  },
  {
   "cell_type": "code",
   "execution_count": 42,
   "metadata": {},
   "outputs": [],
   "source": [
    "ab = a|++|b\n",
    "abc = a|++|b|++|c"
   ]
  },
  {
   "cell_type": "code",
   "execution_count": 43,
   "metadata": {},
   "outputs": [
    {
     "data": {
      "text/plain": [
       "RexConcat (RexChar 'a') (RexChar 'b')"
      ]
     },
     "metadata": {},
     "output_type": "display_data"
    }
   ],
   "source": [
    "ab"
   ]
  },
  {
   "cell_type": "markdown",
   "metadata": {},
   "source": [
    "### Suma de expresiones regulares"
   ]
  },
  {
   "cell_type": "code",
   "execution_count": 44,
   "metadata": {},
   "outputs": [],
   "source": [
    "aOb = a|+|b\n",
    "aOc = a|+|c"
   ]
  },
  {
   "cell_type": "code",
   "execution_count": 45,
   "metadata": {},
   "outputs": [
    {
     "data": {
      "text/plain": [
       "RexSum (RexChar 'a') (RexChar 'b')"
      ]
     },
     "metadata": {},
     "output_type": "display_data"
    }
   ],
   "source": [
    "aOb"
   ]
  },
  {
   "cell_type": "markdown",
   "metadata": {},
   "source": [
    "#### Cierre de una expresión regular"
   ]
  },
  {
   "cell_type": "code",
   "execution_count": 46,
   "metadata": {},
   "outputs": [
    {
     "data": {
      "text/plain": [
       "RexClosing (RexChar 'a')"
      ]
     },
     "metadata": {},
     "output_type": "display_data"
    }
   ],
   "source": [
    "a' = (|^|) a\n",
    "a'"
   ]
  },
  {
   "cell_type": "markdown",
   "metadata": {},
   "source": [
    " $$L_{er} := c(a)^* (ab)^* c b$$ "
   ]
  },
  {
   "cell_type": "code",
   "execution_count": 47,
   "metadata": {},
   "outputs": [],
   "source": [
    "ab' = (|^|) ab\n",
    "er = c |++| a' |++| ab' |++| c |++| b"
   ]
  },
  {
   "cell_type": "code",
   "execution_count": 48,
   "metadata": {},
   "outputs": [
    {
     "data": {
      "text/plain": [
       "False"
      ]
     },
     "metadata": {},
     "output_type": "display_data"
    },
    {
     "data": {
      "text/plain": [
       "True"
      ]
     },
     "metadata": {},
     "output_type": "display_data"
    },
    {
     "data": {
      "text/plain": [
       "True"
      ]
     },
     "metadata": {},
     "output_type": "display_data"
    },
    {
     "data": {
      "text/plain": [
       "True"
      ]
     },
     "metadata": {},
     "output_type": "display_data"
    },
    {
     "data": {
      "text/plain": [
       "False"
      ]
     },
     "metadata": {},
     "output_type": "display_data"
    }
   ],
   "source": [
    "afneraro = regToAFNe er\n",
    "isRenewed afneraro \"abacba\"\n",
    "isRenewed afneraro \"caaaabababababcb\"\n",
    "isRenewed afneraro \"ccb\"\n",
    "isRenewed afneraro \"cabcb\"\n",
    "isRenewed afneraro \"acabcb\""
   ]
  },
  {
   "cell_type": "code",
   "execution_count": 49,
   "metadata": {},
   "outputs": [
    {
     "data": {
      "text/plain": [
       "cab\n",
       "[QP (Q 1) (QP (Q 1) (QP (Q 1) (QP (Q 1) (Q 0)))),QP (Q 1) (QP (Q 1) (QP (Q 1) (QP (Q 1) (Q 1)))),QP (Q 1) (QP (Q 1) (QP (Q 1) (QP (Q 2) (Q 0)))),QP (Q 1) (QP (Q 1) (QP (Q 1) (QP (Q 2) (Q 1)))),QP (Q 1) (QP (Q 1) (QP (Q 1) (QP (Q 2) (QP (Q 1) (Q 0))))),QP (Q 1) (QP (Q 1) (QP (Q 1) (QP (Q 2) (QP (Q 1) (Q 1))))),QP (Q 1) (QP (Q 1) (QP (Q 2) (Q 0))),QP (Q 1) (QP (Q 1) (QP (Q 2) (Q 1))),QP (Q 1) (QP (Q 1) (QP (Q 2) (QP (Q 1) (QP (Q 1) (Q 0))))),QP (Q 1) (QP (Q 1) (QP (Q 2) (QP (Q 1) (QP (Q 1) (Q 1))))),QP (Q 1) (QP (Q 1) (QP (Q 2) (QP (Q 1) (QP (Q 2) (Q 0))))),QP (Q 1) (QP (Q 1) (QP (Q 2) (QP (Q 1) (QP (Q 2) (Q 1))))),QP (Q 1) (QP (Q 2) (Q 0)),QP (Q 1) (QP (Q 2) (Q 1)),QP (Q 2) (Q 0),QP (Q 2) (Q 1)]\n",
       "QP (Q 1) (QP (Q 1) (QP (Q 1) (QP (Q 1) (Q 0))))\n",
       "[(QP (Q 1) (QP (Q 1) (QP (Q 1) (QP (Q 1) (Q 0)))),'c',[QP (Q 1) (QP (Q 1) (QP (Q 1) (QP (Q 1) (Q 1))))]),(QP (Q 1) (QP (Q 1) (QP (Q 1) (QP (Q 1) (Q 0)))),'a',[]),(QP (Q 1) (QP (Q 1) (QP (Q 1) (QP (Q 1) (Q 0)))),'b',[]),(QP (Q 1) (QP (Q 1) (QP (Q 1) (QP (Q 1) (Q 1)))),'c',[]),(QP (Q 1) (QP (Q 1) (QP (Q 1) (QP (Q 1) (Q 1)))),'a',[]),(QP (Q 1) (QP (Q 1) (QP (Q 1) (QP (Q 1) (Q 1)))),'b',[]),(QP (Q 1) (QP (Q 1) (QP (Q 1) (QP (Q 2) (Q 0)))),'c',[]),(QP (Q 1) (QP (Q 1) (QP (Q 1) (QP (Q 2) (Q 0)))),'a',[]),(QP (Q 1) (QP (Q 1) (QP (Q 1) (QP (Q 2) (Q 0)))),'b',[]),(QP (Q 1) (QP (Q 1) (QP (Q 1) (QP (Q 2) (Q 1)))),'c',[]),(QP (Q 1) (QP (Q 1) (QP (Q 1) (QP (Q 2) (Q 1)))),'a',[]),(QP (Q 1) (QP (Q 1) (QP (Q 1) (QP (Q 2) (Q 1)))),'b',[]),(QP (Q 1) (QP (Q 1) (QP (Q 1) (QP (Q 2) (QP (Q 1) (Q 0))))),'c',[]),(QP (Q 1) (QP (Q 1) (QP (Q 1) (QP (Q 2) (QP (Q 1) (Q 0))))),'a',[QP (Q 1) (QP (Q 1) (QP (Q 1) (QP (Q 2) (QP (Q 1) (Q 1)))))]),(QP (Q 1) (QP (Q 1) (QP (Q 1) (QP (Q 2) (QP (Q 1) (Q 0))))),'b',[]),(QP (Q 1) (QP (Q 1) (QP (Q 1) (QP (Q 2) (QP (Q 1) (Q 1))))),'c',[]),(QP (Q 1) (QP (Q 1) (QP (Q 1) (QP (Q 2) (QP (Q 1) (Q 1))))),'a',[]),(QP (Q 1) (QP (Q 1) (QP (Q 1) (QP (Q 2) (QP (Q 1) (Q 1))))),'b',[]),(QP (Q 1) (QP (Q 1) (QP (Q 2) (Q 0))),'c',[]),(QP (Q 1) (QP (Q 1) (QP (Q 2) (Q 0))),'a',[]),(QP (Q 1) (QP (Q 1) (QP (Q 2) (Q 0))),'b',[]),(QP (Q 1) (QP (Q 1) (QP (Q 2) (Q 1))),'c',[]),(QP (Q 1) (QP (Q 1) (QP (Q 2) (Q 1))),'a',[]),(QP (Q 1) (QP (Q 1) (QP (Q 2) (Q 1))),'b',[]),(QP (Q 1) (QP (Q 1) (QP (Q 2) (QP (Q 1) (QP (Q 1) (Q 0))))),'c',[]),(QP (Q 1) (QP (Q 1) (QP (Q 2) (QP (Q 1) (QP (Q 1) (Q 0))))),'a',[QP (Q 1) (QP (Q 1) (QP (Q 2) (QP (Q 1) (QP (Q 1) (Q 1)))))]),(QP (Q 1) (QP (Q 1) (QP (Q 2) (QP (Q 1) (QP (Q 1) (Q 0))))),'b',[]),(QP (Q 1) (QP (Q 1) (QP (Q 2) (QP (Q 1) (QP (Q 1) (Q 1))))),'c',[]),(QP (Q 1) (QP (Q 1) (QP (Q 2) (QP (Q 1) (QP (Q 1) (Q 1))))),'a',[]),(QP (Q 1) (QP (Q 1) (QP (Q 2) (QP (Q 1) (QP (Q 1) (Q 1))))),'b',[]),(QP (Q 1) (QP (Q 1) (QP (Q 2) (QP (Q 1) (QP (Q 2) (Q 0))))),'c',[]),(QP (Q 1) (QP (Q 1) (QP (Q 2) (QP (Q 1) (QP (Q 2) (Q 0))))),'a',[]),(QP (Q 1) (QP (Q 1) (QP (Q 2) (QP (Q 1) (QP (Q 2) (Q 0))))),'b',[QP (Q 1) (QP (Q 1) (QP (Q 2) (QP (Q 1) (QP (Q 2) (Q 1)))))]),(QP (Q 1) (QP (Q 1) (QP (Q 2) (QP (Q 1) (QP (Q 2) (Q 1))))),'c',[]),(QP (Q 1) (QP (Q 1) (QP (Q 2) (QP (Q 1) (QP (Q 2) (Q 1))))),'a',[]),(QP (Q 1) (QP (Q 1) (QP (Q 2) (QP (Q 1) (QP (Q 2) (Q 1))))),'b',[]),(QP (Q 1) (QP (Q 2) (Q 0)),'c',[QP (Q 1) (QP (Q 2) (Q 1))]),(QP (Q 1) (QP (Q 2) (Q 0)),'a',[]),(QP (Q 1) (QP (Q 2) (Q 0)),'b',[]),(QP (Q 1) (QP (Q 2) (Q 1)),'c',[]),(QP (Q 1) (QP (Q 2) (Q 1)),'a',[]),(QP (Q 1) (QP (Q 2) (Q 1)),'b',[]),(QP (Q 2) (Q 0),'c',[]),(QP (Q 2) (Q 0),'a',[]),(QP (Q 2) (Q 0),'b',[QP (Q 2) (Q 1)]),(QP (Q 2) (Q 1),'c',[]),(QP (Q 2) (Q 1),'a',[]),(QP (Q 2) (Q 1),'b',[])]\n",
       "[QP (Q 2) (Q 1)]\n",
       "[(QP (Q 1) (QP (Q 1) (QP (Q 1) (QP (Q 1) (Q 0)))),[]),(QP (Q 1) (QP (Q 1) (QP (Q 1) (QP (Q 1) (Q 1)))),[QP (Q 1) (QP (Q 1) (QP (Q 1) (QP (Q 2) (Q 0))))]),(QP (Q 1) (QP (Q 1) (QP (Q 1) (QP (Q 2) (Q 0)))),[QP (Q 1) (QP (Q 1) (QP (Q 1) (QP (Q 2) (QP (Q 1) (Q 0))))),QP (Q 1) (QP (Q 1) (QP (Q 1) (QP (Q 2) (Q 1))))]),(QP (Q 1) (QP (Q 1) (QP (Q 1) (QP (Q 2) (Q 1)))),[QP (Q 1) (QP (Q 1) (QP (Q 2) (Q 0)))]),(QP (Q 1) (QP (Q 1) (QP (Q 1) (QP (Q 2) (QP (Q 1) (Q 0))))),[]),(QP (Q 1) (QP (Q 1) (QP (Q 1) (QP (Q 2) (QP (Q 1) (Q 1))))),[QP (Q 1) (QP (Q 1) (QP (Q 1) (QP (Q 2) (Q 1)))),QP (Q 1) (QP (Q 1) (QP (Q 1) (QP (Q 2) (QP (Q 1) (Q 0)))))]),(QP (Q 1) (QP (Q 1) (QP (Q 2) (Q 0))),[QP (Q 1) (QP (Q 1) (QP (Q 2) (QP (Q 1) (QP (Q 1) (Q 0))))),QP (Q 1) (QP (Q 1) (QP (Q 2) (Q 1)))]),(QP (Q 1) (QP (Q 1) (QP (Q 2) (Q 1))),[QP (Q 1) (QP (Q 2) (Q 0))]),(QP (Q 1) (QP (Q 1) (QP (Q 2) (QP (Q 1) (QP (Q 1) (Q 0))))),[]),(QP (Q 1) (QP (Q 1) (QP (Q 2) (QP (Q 1) (QP (Q 1) (Q 1))))),[QP (Q 1) (QP (Q 1) (QP (Q 2) (QP (Q 1) (QP (Q 2) (Q 0)))))]),(QP (Q 1) (QP (Q 1) (QP (Q 2) (QP (Q 1) (QP (Q 2) (Q 0))))),[]),(QP (Q 1) (QP (Q 1) (QP (Q 2) (QP (Q 1) (QP (Q 2) (Q 1))))),[QP (Q 1) (QP (Q 1) (QP (Q 2) (Q 1))),QP (Q 1) (QP (Q 1) (QP (Q 2) (QP (Q 1) (QP (Q 1) (Q 0)))))]),(QP (Q 1) (QP (Q 2) (Q 0)),[]),(QP (Q 1) (QP (Q 2) (Q 1)),[QP (Q 2) (Q 0)]),(QP (Q 2) (Q 0),[]),(QP (Q 2) (Q 1),[])]"
      ]
     },
     "metadata": {},
     "output_type": "display_data"
    }
   ],
   "source": [
    "afneraro"
   ]
  },
  {
   "cell_type": "markdown",
   "metadata": {},
   "source": [
    "### Conversión a AFD"
   ]
  },
  {
   "cell_type": "code",
   "execution_count": 50,
   "metadata": {},
   "outputs": [],
   "source": [
    "afnraro = afneToafn afneraro\n",
    "afdraro = afnToafd afnraro"
   ]
  },
  {
   "cell_type": "code",
   "execution_count": 51,
   "metadata": {},
   "outputs": [
    {
     "data": {
      "text/plain": [
       "cab\n",
       "[Q 0,Q 1,Q 2,Q 3,Q 4,Q 5,Q 6,Q 7,Q 8]\n",
       "Q 8\n",
       "[(Q 0,'c',Q 0),(Q 0,'a',Q 0),(Q 0,'b',Q 0),(Q 1,'c',Q 6),(Q 1,'a',Q 6),(Q 1,'b',Q 2),(Q 2,'c',Q 5),(Q 2,'a',Q 1),(Q 2,'b',Q 6),(Q 3,'c',Q 6),(Q 3,'a',Q 6),(Q 3,'b',Q 6),(Q 4,'c',Q 5),(Q 4,'a',Q 4),(Q 4,'b',Q 2),(Q 5,'c',Q 6),(Q 5,'a',Q 6),(Q 5,'b',Q 3),(Q 6,'c',Q 6),(Q 6,'a',Q 6),(Q 6,'b',Q 6),(Q 7,'c',Q 5),(Q 7,'a',Q 4),(Q 7,'b',Q 6),(Q 8,'c',Q 7),(Q 8,'a',Q 6),(Q 8,'b',Q 6)]\n",
       "[Q 3]"
      ]
     },
     "metadata": {},
     "output_type": "display_data"
    }
   ],
   "source": [
    "afdraro' = normalizeNodes $ reduce afdraro\n",
    "afdraro'"
   ]
  },
  {
   "cell_type": "code",
   "execution_count": 52,
   "metadata": {
    "scrolled": true
   },
   "outputs": [
    {
     "data": {
      "text/plain": [
       "False"
      ]
     },
     "metadata": {},
     "output_type": "display_data"
    },
    {
     "data": {
      "text/plain": [
       "True"
      ]
     },
     "metadata": {},
     "output_type": "display_data"
    },
    {
     "data": {
      "text/plain": [
       "True"
      ]
     },
     "metadata": {},
     "output_type": "display_data"
    },
    {
     "data": {
      "text/plain": [
       "True"
      ]
     },
     "metadata": {},
     "output_type": "display_data"
    },
    {
     "data": {
      "text/plain": [
       "False"
      ]
     },
     "metadata": {},
     "output_type": "display_data"
    }
   ],
   "source": [
    "isRenewed afdraro' \"abacba\"\n",
    "isRenewed afdraro' \"caaaabababababcb\"\n",
    "isRenewed afdraro' \"ccb\"\n",
    "isRenewed afdraro' \"cabcb\"\n",
    "isRenewed afdraro' \"acabcb\""
   ]
  },
  {
   "cell_type": "markdown",
   "metadata": {},
   "source": [
    "# Otras funciones\n",
    "#### renewedFile :: Automata a => a -> [Char] -> IO ()"
   ]
  },
  {
   "cell_type": "code",
   "execution_count": 53,
   "metadata": {},
   "outputs": [
    {
     "data": {
      "text/plain": [
       "[False,True,True,True,False]"
      ]
     },
     "metadata": {},
     "output_type": "display_data"
    }
   ],
   "source": [
    "renewedFile afdraro' \"palabras.txt\""
   ]
  }
 ],
 "metadata": {
  "kernelspec": {
   "display_name": "Haskell",
   "language": "haskell",
   "name": "haskell"
  },
  "language_info": {
   "codemirror_mode": "ihaskell",
   "file_extension": ".hs",
   "mimetype": "text/x-haskell",
   "name": "haskell",
   "pygments_lexer": "Haskell",
   "version": "8.8.4"
  }
 },
 "nbformat": 4,
 "nbformat_minor": 4
}
